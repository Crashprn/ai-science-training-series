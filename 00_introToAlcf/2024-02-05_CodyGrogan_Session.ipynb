{
 "cells": [
  {
   "cell_type": "markdown",
   "id": "69f457e9-9e69-44d8-bb56-c001cb653c17",
   "metadata": {},
   "source": [
    "### Here is my new homework"
   ]
  },
  {
   "cell_type": "code",
   "execution_count": 1,
   "id": "0d43adf7-1bc4-4901-b2ad-46a0c9b181f2",
   "metadata": {},
   "outputs": [
    {
     "name": "stdout",
     "output_type": "stream",
     "text": [
      "Testing\n"
     ]
    }
   ],
   "source": [
    "import os, numpy\n",
    "\n",
    "print(\"Testing\")"
   ]
  },
  {
   "cell_type": "code",
   "execution_count": null,
   "id": "7b3e059d-2678-4375-86e8-224bc85dd774",
   "metadata": {},
   "outputs": [],
   "source": []
  }
 ],
 "metadata": {
  "kernelspec": {
   "display_name": "Python 3 (ipykernel)",
   "language": "python",
   "name": "python3"
  },
  "language_info": {
   "codemirror_mode": {
    "name": "ipython",
    "version": 3
   },
   "file_extension": ".py",
   "mimetype": "text/x-python",
   "name": "python",
   "nbconvert_exporter": "python",
   "pygments_lexer": "ipython3",
   "version": "3.9.15"
  }
 },
 "nbformat": 4,
 "nbformat_minor": 5
}
